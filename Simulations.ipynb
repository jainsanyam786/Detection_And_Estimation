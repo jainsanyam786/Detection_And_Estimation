{
 "cells": [
  {
   "cell_type": "code",
   "execution_count": 29,
   "metadata": {},
   "outputs": [],
   "source": [
    "import numpy as np"
   ]
  },
  {
   "cell_type": "code",
   "execution_count": 77,
   "metadata": {},
   "outputs": [
    {
     "name": "stdout",
     "output_type": "stream",
     "text": [
      "LOS identification percentage with kurtosis 99.03\n",
      "NLOS identification percentage with kurtosis 99.89\n"
     ]
    }
   ],
   "source": [
    "# Simulation for NLOS/LOS identification using lognormal distribution for kurtosis\n",
    "k_mu_los, k_sigma_los = 4.2637, 0.7447\n",
    "k_mu_nlos, k_sigma_nlos = 2.1141, 0.1487\n",
    "k_LOS = np.random.lognormal(k_mu_los, k_sigma_los, 10000)\n",
    "pdf1 = (np.exp(-(np.log(k_LOS) - k_mu_los)**2 / (2 * k_sigma_los**2))\n",
    "       / (k_LOS * k_sigma_los * np.sqrt(2 * np.pi)))\n",
    "pdf2 = (np.exp(-(np.log(k_LOS) - k_mu_nlos)**2 / (2 * k_sigma_nlos**2))\n",
    "       / (k_LOS * k_sigma_nlos * np.sqrt(2 * np.pi)))\n",
    "k_los_identification_test = np.log10(pdf1/pdf2)\n",
    "k_los_identification_test[k_los_identification_test>0] = 1\n",
    "k_los_identification_test[k_los_identification_test<0] = 0\n",
    "k_los_identification_per = (np.count_nonzero(k_los_identification_test == 1)/10000)*100\n",
    "print(\"LOS identification percentage with kurtosis\",k_los_identification_per)\n",
    "k_NLOS = np.random.lognormal(k_mu_nlos, k_sigma_nlos, 10000)\n",
    "pdf1 = (np.exp(-(np.log(k_NLOS) - k_mu_los)**2 / (2 * k_sigma_los**2))\n",
    "       / (k_NLOS * k_sigma_los * np.sqrt(2 * np.pi)))\n",
    "pdf2 = (np.exp(-(np.log(k_NLOS) - k_mu_nlos)**2 / (2 * k_sigma_nlos**2))\n",
    "       / (k_NLOS * k_sigma_nlos * np.sqrt(2 * np.pi)))\n",
    "k_nlos_identification_test = np.log10(pdf1/pdf2)\n",
    "k_nlos_identification_test[k_nlos_identification_test>0] = 0\n",
    "k_nlos_identification_test[k_nlos_identification_test<0] = 1\n",
    "k_nlos_identification_per = (np.count_nonzero(k_nlos_identification_test == 1)/10000)*100\n",
    "print(\"NLOS identification percentage with kurtosis\",k_nlos_identification_per)"
   ]
  },
  {
   "cell_type": "code",
   "execution_count": 78,
   "metadata": {},
   "outputs": [
    {
     "name": "stdout",
     "output_type": "stream",
     "text": [
      "LOS identification percentage with kurtosis 99.92999999999999\n",
      "NLOS identification percentage with kurtosis 100.0\n"
     ]
    },
    {
     "name": "stderr",
     "output_type": "stream",
     "text": [
      "<ipython-input-78-f92eb7728153>:9: RuntimeWarning: divide by zero encountered in true_divide\n",
      "  m_los_identification_test = np.log10(pdf1/pdf2)\n",
      "<ipython-input-78-f92eb7728153>:9: RuntimeWarning: overflow encountered in true_divide\n",
      "  m_los_identification_test = np.log10(pdf1/pdf2)\n"
     ]
    }
   ],
   "source": [
    "# Simulation for NLOS/LOS identification using lognormal distribution for mean excess delay\n",
    "m_mu_los, m_sigma_los = 1.3845, 0.9830\n",
    "m_mu_nlos, m_sigma_nlos = 4.7356, 0.0225\n",
    "m_LOS = np.random.lognormal(m_mu_los, m_sigma_los, 10000)\n",
    "pdf1 = (np.exp(-(np.log(m_LOS) - m_mu_los)**2 / (2 * m_sigma_los**2))\n",
    "       / (m_LOS * m_sigma_los * np.sqrt(2 * np.pi)))\n",
    "pdf2 = (np.exp(-(np.log(m_LOS) - m_mu_nlos)**2 / (2 * m_sigma_nlos**2))\n",
    "       / (m_LOS * m_sigma_nlos * np.sqrt(2 * np.pi)))\n",
    "m_los_identification_test = np.log10(pdf1/pdf2)\n",
    "m_los_identification_test[m_los_identification_test>0] = 1\n",
    "m_los_identification_test[m_los_identification_test<0] = 0\n",
    "m_los_identification_per = (np.count_nonzero(m_los_identification_test == 1)/10000)*100\n",
    "print(\"LOS identification percentage with kurtosis\",m_los_identification_per)\n",
    "m_NLOS = np.random.lognormal(m_mu_nlos, m_sigma_nlos, 10000)\n",
    "pdf1 = (np.exp(-(np.log(m_NLOS) - m_mu_los)**2 / (2 * m_sigma_los**2))\n",
    "       / (m_NLOS * m_sigma_los * np.sqrt(2 * np.pi)))\n",
    "pdf2 = (np.exp(-(np.log(m_NLOS) - m_mu_nlos)**2 / (2 * m_sigma_nlos**2))\n",
    "       / (m_NLOS * m_sigma_nlos * np.sqrt(2 * np.pi)))\n",
    "m_nlos_identification_test = np.log10(pdf1/pdf2)\n",
    "m_nlos_identification_test[m_nlos_identification_test>0] = 0\n",
    "m_nlos_identification_test[m_nlos_identification_test<0] = 1\n",
    "m_nlos_identification_per = (np.count_nonzero(m_nlos_identification_test == 1)/10000)*100\n",
    "print(\"NLOS identification percentage with kurtosis\",m_nlos_identification_per)\n"
   ]
  },
  {
   "cell_type": "code",
   "execution_count": 79,
   "metadata": {},
   "outputs": [
    {
     "name": "stdout",
     "output_type": "stream",
     "text": [
      "LOS identification percentage with kurtosis 99.98\n",
      "NLOS identification percentage with kurtosis 100.0\n"
     ]
    },
    {
     "name": "stderr",
     "output_type": "stream",
     "text": [
      "<ipython-input-79-3846b9dd637f>:9: RuntimeWarning: divide by zero encountered in true_divide\n",
      "  rms_los_identification_test = np.log10(pdf1/pdf2)\n"
     ]
    }
   ],
   "source": [
    "# Simulation for NLOS/LOS identification using lognormal distribution for rms delay spread\n",
    "rms_mu_los, rms_sigma_los = 1.9409, 0.7305\n",
    "rms_mu_nlos, rms_sigma_nlos = 4.4872, 0.0164\n",
    "rms_LOS = np.random.lognormal(rms_mu_los, rms_sigma_los, 10000)\n",
    "pdf1 = (np.exp(-(np.log(rms_LOS) - rms_mu_los)**2 / (2 * rms_sigma_los**2))\n",
    "       / (rms_LOS * rms_sigma_los * np.sqrt(2 * np.pi)))\n",
    "pdf2 = (np.exp(-(np.log(rms_LOS) - rms_mu_nlos)**2 / (2 * rms_sigma_nlos**2))\n",
    "       / (rms_LOS * rms_sigma_nlos * np.sqrt(2 * np.pi)))\n",
    "rms_los_identification_test = np.log10(pdf1/pdf2)\n",
    "rms_los_identification_test[rms_los_identification_test>0] = 1\n",
    "rms_los_identification_test[rms_los_identification_test<0] = 0\n",
    "rms_los_identification_per = (np.count_nonzero(rms_los_identification_test == 1)/10000)*100\n",
    "print(\"LOS identification percentage with kurtosis\",rms_los_identification_per)\n",
    "rms_NLOS = np.random.lognormal(rms_mu_nlos, rms_sigma_nlos, 10000)\n",
    "pdf1 = (np.exp(-(np.log(rms_NLOS) - rms_mu_los)**2 / (2 * rms_sigma_los**2))\n",
    "       / (rms_NLOS * rms_sigma_los * np.sqrt(2 * np.pi)))\n",
    "pdf2 = (np.exp(-(np.log(rms_NLOS) - rms_mu_nlos)**2 / (2 * rms_sigma_nlos**2))\n",
    "       / (rms_NLOS * rms_sigma_nlos * np.sqrt(2 * np.pi)))\n",
    "rms_nlos_identification_test = np.log10(pdf1/pdf2)\n",
    "rms_nlos_identification_test[rms_nlos_identification_test>0] = 0\n",
    "rms_nlos_identification_test[rms_nlos_identification_test<0] = 1\n",
    "rms_nlos_identification_per = (np.count_nonzero(rms_nlos_identification_test == 1)/10000)*100\n",
    "print(\"NLOS identification percentage with kurtosis\",rms_nlos_identification_per)"
   ]
  },
  {
   "cell_type": "code",
   "execution_count": 83,
   "metadata": {},
   "outputs": [
    {
     "ename": "SyntaxError",
     "evalue": "invalid syntax (gmm.py, line 46)",
     "output_type": "error",
     "traceback": [
      "Traceback \u001b[1;36m(most recent call last)\u001b[0m:\n",
      "  File \u001b[0;32m\"C:\\Users\\Logan\\anaconda3\\lib\\site-packages\\IPython\\core\\interactiveshell.py\"\u001b[0m, line \u001b[0;32m3343\u001b[0m, in \u001b[0;35mrun_code\u001b[0m\n    exec(code_obj, self.user_global_ns, self.user_ns)\n",
      "\u001b[1;36m  File \u001b[1;32m\"<ipython-input-83-1caed4a8fb62>\"\u001b[1;36m, line \u001b[1;32m1\u001b[1;36m, in \u001b[1;35m<module>\u001b[1;36m\u001b[0m\n\u001b[1;33m    from pypr.clustering import *\u001b[0m\n",
      "\u001b[1;36m  File \u001b[1;32m\"C:\\Users\\Logan\\anaconda3\\lib\\site-packages\\pypr\\clustering\\gmm.py\"\u001b[1;36m, line \u001b[1;32m46\u001b[0m\n\u001b[1;33m    raise ValueError, \"MU must be a 1 dimensional array\"\u001b[0m\n\u001b[1;37m                    ^\u001b[0m\n\u001b[1;31mSyntaxError\u001b[0m\u001b[1;31m:\u001b[0m invalid syntax\n"
     ]
    }
   ],
   "source": [
    "from pypr.clustering import *"
   ]
  },
  {
   "cell_type": "code",
   "execution_count": null,
   "metadata": {},
   "outputs": [],
   "source": []
  }
 ],
 "metadata": {
  "kernelspec": {
   "display_name": "Python 3",
   "language": "python",
   "name": "python3"
  },
  "language_info": {
   "codemirror_mode": {
    "name": "ipython",
    "version": 3
   },
   "file_extension": ".py",
   "mimetype": "text/x-python",
   "name": "python",
   "nbconvert_exporter": "python",
   "pygments_lexer": "ipython3",
   "version": "3.8.3"
  }
 },
 "nbformat": 4,
 "nbformat_minor": 4
}
