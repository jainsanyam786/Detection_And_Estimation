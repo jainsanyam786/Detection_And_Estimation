{
 "cells": [
  {
   "cell_type": "code",
   "execution_count": 88,
   "metadata": {},
   "outputs": [],
   "source": [
    "import numpy as np\n",
    "import numpy.random\n",
    "import scipy.stats as ss\n",
    "import matplotlib.pyplot as plt"
   ]
  },
  {
   "cell_type": "code",
   "execution_count": 77,
   "metadata": {},
   "outputs": [
    {
     "name": "stdout",
     "output_type": "stream",
     "text": [
      "LOS identification percentage with kurtosis 99.03\n",
      "NLOS identification percentage with kurtosis 99.89\n"
     ]
    }
   ],
   "source": [
    "# Simulation for NLOS/LOS identification using lognormal distribution for kurtosis\n",
    "k_mu_los, k_sigma_los = 4.2637, 0.7447\n",
    "k_mu_nlos, k_sigma_nlos = 2.1141, 0.1487\n",
    "k_LOS = np.random.lognormal(k_mu_los, k_sigma_los, 10000)\n",
    "pdf1 = (np.exp(-(np.log(k_LOS) - k_mu_los)**2 / (2 * k_sigma_los**2))\n",
    "       / (k_LOS * k_sigma_los * np.sqrt(2 * np.pi)))\n",
    "pdf2 = (np.exp(-(np.log(k_LOS) - k_mu_nlos)**2 / (2 * k_sigma_nlos**2))\n",
    "       / (k_LOS * k_sigma_nlos * np.sqrt(2 * np.pi)))\n",
    "k_los_identification_test = np.log10(pdf1/pdf2)\n",
    "k_los_identification_test[k_los_identification_test>0] = 1\n",
    "k_los_identification_test[k_los_identification_test<0] = 0\n",
    "k_los_identification_per = (np.count_nonzero(k_los_identification_test == 1)/10000)*100\n",
    "print(\"LOS identification percentage with kurtosis\",k_los_identification_per)\n",
    "k_NLOS = np.random.lognormal(k_mu_nlos, k_sigma_nlos, 10000)\n",
    "pdf1 = (np.exp(-(np.log(k_NLOS) - k_mu_los)**2 / (2 * k_sigma_los**2))\n",
    "       / (k_NLOS * k_sigma_los * np.sqrt(2 * np.pi)))\n",
    "pdf2 = (np.exp(-(np.log(k_NLOS) - k_mu_nlos)**2 / (2 * k_sigma_nlos**2))\n",
    "       / (k_NLOS * k_sigma_nlos * np.sqrt(2 * np.pi)))\n",
    "k_nlos_identification_test = np.log10(pdf1/pdf2)\n",
    "k_nlos_identification_test[k_nlos_identification_test>0] = 0\n",
    "k_nlos_identification_test[k_nlos_identification_test<0] = 1\n",
    "k_nlos_identification_per = (np.count_nonzero(k_nlos_identification_test == 1)/10000)*100\n",
    "print(\"NLOS identification percentage with kurtosis\",k_nlos_identification_per)"
   ]
  },
  {
   "cell_type": "code",
   "execution_count": 125,
   "metadata": {},
   "outputs": [
    {
     "name": "stdout",
     "output_type": "stream",
     "text": [
      "LOS identification percentage with mean excess delay 99.97\n",
      "NLOS identification percentage with mean excess delay 100.0\n"
     ]
    },
    {
     "name": "stderr",
     "output_type": "stream",
     "text": [
      "<ipython-input-125-3fba735eeed3>:9: RuntimeWarning: divide by zero encountered in true_divide\n",
      "  m_los_identification_test = np.log10(pdf1/pdf2)\n",
      "<ipython-input-125-3fba735eeed3>:9: RuntimeWarning: overflow encountered in true_divide\n",
      "  m_los_identification_test = np.log10(pdf1/pdf2)\n"
     ]
    }
   ],
   "source": [
    "# Simulation for NLOS/LOS identification using lognormal distribution for mean excess delay\n",
    "m_mu_los, m_sigma_los = 1.3845, 0.9830\n",
    "m_mu_nlos, m_sigma_nlos = 4.7356, 0.0225\n",
    "m_LOS = np.random.lognormal(m_mu_los, m_sigma_los, 10000)\n",
    "pdf1 = (np.exp(-(np.log(m_LOS) - m_mu_los)**2 / (2 * m_sigma_los**2))\n",
    "       / (m_LOS * m_sigma_los * np.sqrt(2 * np.pi)))\n",
    "pdf2 = (np.exp(-(np.log(m_LOS) - m_mu_nlos)**2 / (2 * m_sigma_nlos**2))\n",
    "       / (m_LOS * m_sigma_nlos * np.sqrt(2 * np.pi)))\n",
    "m_los_identification_test = np.log10(pdf1/pdf2)\n",
    "m_los_identification_test[m_los_identification_test>0] = 1\n",
    "m_los_identification_test[m_los_identification_test<0] = 0\n",
    "m_los_identification_per = (np.count_nonzero(m_los_identification_test == 1)/10000)*100\n",
    "print(\"LOS identification percentage with mean excess delay\",m_los_identification_per)\n",
    "m_NLOS = np.random.lognormal(m_mu_nlos, m_sigma_nlos, 10000)\n",
    "pdf1 = (np.exp(-(np.log(m_NLOS) - m_mu_los)**2 / (2 * m_sigma_los**2))\n",
    "       / (m_NLOS * m_sigma_los * np.sqrt(2 * np.pi)))\n",
    "pdf2 = (np.exp(-(np.log(m_NLOS) - m_mu_nlos)**2 / (2 * m_sigma_nlos**2))\n",
    "       / (m_NLOS * m_sigma_nlos * np.sqrt(2 * np.pi)))\n",
    "m_nlos_identification_test = np.log10(pdf1/pdf2)\n",
    "m_nlos_identification_test[m_nlos_identification_test>0] = 0\n",
    "m_nlos_identification_test[m_nlos_identification_test<0] = 1\n",
    "m_nlos_identification_per = (np.count_nonzero(m_nlos_identification_test == 1)/10000)*100\n",
    "print(\"NLOS identification percentage with mean excess delay\",m_nlos_identification_per)\n"
   ]
  },
  {
   "cell_type": "code",
   "execution_count": 124,
   "metadata": {},
   "outputs": [
    {
     "name": "stdout",
     "output_type": "stream",
     "text": [
      "LOS identification percentage with rms delay spread 99.99\n",
      "NLOS identification percentage with rms delay spread 99.99\n"
     ]
    },
    {
     "name": "stderr",
     "output_type": "stream",
     "text": [
      "<ipython-input-124-21f5eec17294>:9: RuntimeWarning: divide by zero encountered in true_divide\n",
      "  rms_los_identification_test = np.log10(pdf1/pdf2)\n",
      "<ipython-input-124-21f5eec17294>:9: RuntimeWarning: overflow encountered in true_divide\n",
      "  rms_los_identification_test = np.log10(pdf1/pdf2)\n"
     ]
    }
   ],
   "source": [
    "# Simulation for NLOS/LOS identification using lognormal distribution for rms delay spread\n",
    "rms_mu_los, rms_sigma_los = 1.9409, 0.7305\n",
    "rms_mu_nlos, rms_sigma_nlos = 4.4872, 0.0164\n",
    "rms_LOS = np.random.lognormal(rms_mu_los, rms_sigma_los, 10000)\n",
    "pdf1 = (np.exp(-(np.log(rms_LOS) - rms_mu_los)**2 / (2 * rms_sigma_los**2))\n",
    "       / (rms_LOS * rms_sigma_los * np.sqrt(2 * np.pi)))\n",
    "pdf2 = (np.exp(-(np.log(rms_LOS) - rms_mu_nlos)**2 / (2 * rms_sigma_nlos**2))\n",
    "       / (rms_LOS * rms_sigma_nlos * np.sqrt(2 * np.pi)))\n",
    "rms_los_identification_test = np.log10(pdf1/pdf2)\n",
    "rms_los_identification_test[rms_los_identification_test>0] = 1\n",
    "rms_los_identification_test[rms_los_identification_test<0] = 0\n",
    "rms_los_identification_per = (np.count_nonzero(rms_los_identification_test == 1)/10000)*100\n",
    "print(\"LOS identification percentage with rms delay spread\",rms_los_identification_per)\n",
    "rms_NLOS = np.random.lognormal(rms_mu_nlos, rms_sigma_nlos, 10000)\n",
    "pdf1 = (np.exp(-(np.log(rms_NLOS) - rms_mu_los)**2 / (2 * rms_sigma_los**2))\n",
    "       / (rms_NLOS * rms_sigma_los * np.sqrt(2 * np.pi)))\n",
    "pdf2 = (np.exp(-(np.log(rms_NLOS) - rms_mu_nlos)**2 / (2 * rms_sigma_nlos**2))\n",
    "       / (rms_NLOS * rms_sigma_nlos * np.sqrt(2 * np.pi)))\n",
    "rms_nlos_identification_test = np.log10(pdf1/pdf2)\n",
    "rms_nlos_identification_test[rms_nlos_identification_test>0] = 0\n",
    "rms_nlos_identification_test[rms_nlos_identification_test<0] = 1\n",
    "rms_nlos_identification_per = (np.count_nonzero(rms_nlos_identification_test == 1)/10000)*100\n",
    "print(\"NLOS identification percentage with rms delay spread\",rms_nlos_identification_per)"
   ]
  },
  {
   "cell_type": "markdown",
   "metadata": {},
   "source": [
    "### Hypothesis testing using GMM distribution for kurtosis"
   ]
  },
  {
   "cell_type": "code",
   "execution_count": 107,
   "metadata": {},
   "outputs": [
    {
     "name": "stdout",
     "output_type": "stream",
     "text": [
      "LOS identification percentage with kurtosis 95.26\n"
     ]
    },
    {
     "name": "stderr",
     "output_type": "stream",
     "text": [
      "<ipython-input-107-0cf4a9a21082>:23: RuntimeWarning: divide by zero encountered in true_divide\n",
      "  k_los_identification_test = np.log(pdf1/pdf2)\n",
      "<ipython-input-107-0cf4a9a21082>:23: RuntimeWarning: overflow encountered in true_divide\n",
      "  k_los_identification_test = np.log(pdf1/pdf2)\n"
     ]
    }
   ],
   "source": [
    "# Simulation for LOS identification using GMM distribution for kurtosis\n",
    "n = 10000\n",
    "# Parameters of the mixture components (mu,sigma)\n",
    "norm_params_los = np.array([[32.33, 1.74],[25.44, 4.01]])\n",
    "n_components_los = norm_params_los.shape[0]\n",
    "# Weight of each component, in this case all of them are 1/2\n",
    "los_weights = np.ones(n_components_los, dtype=np.float64) / float(n_components_los)\n",
    "mixture_idx = numpy.random.choice(n_components_los, size=n, replace=True, p=los_weights)\n",
    "# y is the mixture sample\n",
    "k_los = numpy.fromiter((ss.norm.rvs(*(norm_params_los[i])) for i in mixture_idx),\n",
    "                   dtype=np.float64)  \n",
    "pdf1 = np.zeros_like(k_los)\n",
    "for (l, s), w in zip(norm_params_los, los_weights):\n",
    "    pdf1 += ss.norm.pdf(k_los, loc=l, scale=s) * w\n",
    "    \n",
    "norm_params_nlos = np.array([[19.6, 0.28],[16.4, 0.43], [18.1, 0.25]])\n",
    "n_components_nlos = norm_params_nlos.shape[0]  \n",
    "nlos_weights = np.ones(n_components_nlos, dtype=np.float64) / float(n_components_nlos)\n",
    "pdf2 = np.zeros_like(k_los)\n",
    "for (l, s), w in zip(norm_params_nlos, nlos_weights):\n",
    "    pdf2 += ss.norm.pdf(k_los, loc=l, scale=s) * w  \n",
    "\n",
    "k_los_identification_test = np.log(pdf1/pdf2)\n",
    "k_los_identification_test[k_los_identification_test>0] = 1\n",
    "k_los_identification_test[k_los_identification_test<0] = 0\n",
    "k_los_identification_per = (np.count_nonzero(k_los_identification_test == 1)/10000)*100\n",
    "print(\"LOS identification percentage with kurtosis\",k_los_identification_per)"
   ]
  },
  {
   "cell_type": "code",
   "execution_count": 108,
   "metadata": {},
   "outputs": [
    {
     "name": "stdout",
     "output_type": "stream",
     "text": [
      "NLOS identification percentage with kurtosis 99.76\n"
     ]
    }
   ],
   "source": [
    "# Simulation for NLOS identification using GMM distribution for kurtosis\n",
    "n = 10000\n",
    "# Parameters of the mixture components (mu,sigma)\n",
    "norm_params_nlos = np.array([[19.6, 0.28],[16.4, 0.43], [18.1, 0.25]])\n",
    "n_components_nlos = norm_params_nlos.shape[0]\n",
    "# Weight of each component, in this case all of them are 1/3\n",
    "nlos_weights = np.ones(n_components_nlos, dtype=np.float64) / float(n_components_nlos)\n",
    "mixture_idx = numpy.random.choice(n_components_nlos, size=n, replace=True, p=nlos_weights)\n",
    "# y is the mixture sample\n",
    "k_nlos = numpy.fromiter((ss.norm.rvs(*(norm_params_nlos[i])) for i in mixture_idx),\n",
    "                   dtype=np.float64)  \n",
    "pdf2 = np.zeros_like(k_nlos)\n",
    "for (l, s), w in zip(norm_params_nlos, nlos_weights):\n",
    "    pdf2 += ss.norm.pdf(k_nlos, loc=l, scale=s) * w\n",
    "    \n",
    "norm_params_los = np.array([[32.33, 1.74],[25.44, 4.01]])\n",
    "n_components_los = norm_params_los.shape[0]  \n",
    "los_weights = np.ones(n_components_los, dtype=np.float64) / float(n_components_los)\n",
    "pdf1 = np.zeros_like(k_nlos)\n",
    "for (l, s), w in zip(norm_params_los, los_weights):\n",
    "    pdf1 += ss.norm.pdf(k_nlos, loc=l, scale=s) * w  \n",
    "\n",
    "k_nlos_identification_test = np.log(pdf1/pdf2)\n",
    "k_nlos_identification_test[k_nlos_identification_test>0] = 0\n",
    "k_nlos_identification_test[k_nlos_identification_test<0] = 1\n",
    "k_nlos_identification_per = (np.count_nonzero(k_nlos_identification_test == 1)/10000)*100\n",
    "print(\"NLOS identification percentage with kurtosis\",k_nlos_identification_per)"
   ]
  },
  {
   "cell_type": "markdown",
   "metadata": {},
   "source": [
    "### Hypothesis testing using GMM distribution for Skewness"
   ]
  },
  {
   "cell_type": "code",
   "execution_count": 127,
   "metadata": {},
   "outputs": [
    {
     "name": "stdout",
     "output_type": "stream",
     "text": [
      "LOS identification percentage with Skewness 99.94\n"
     ]
    }
   ],
   "source": [
    "# Simulation for LOS identification using GMM distribution for Skewness\n",
    "n = 10000\n",
    "# Parameters of the mixture components (mu,sigma)\n",
    "norm_params_los = np.array([[3.65, 0.064],[3.93, 0.043]])\n",
    "n_components_los = norm_params_los.shape[0]\n",
    "# Weight of each component, in this case all of them are 1/2\n",
    "los_weights = np.ones(n_components_los, dtype=np.float64) / float(n_components_los)\n",
    "mixture_idx = numpy.random.choice(n_components_los, size=n, replace=True, p=weights)\n",
    "# y is the mixture sample\n",
    "k_los = numpy.fromiter((ss.norm.rvs(*(norm_params_los[i])) for i in mixture_idx),\n",
    "                   dtype=np.float64)  \n",
    "pdf1 = np.zeros_like(k_los)\n",
    "for (l, s), w in zip(norm_params_los, weights):\n",
    "    pdf1 += ss.norm.pdf(k_los, loc=l, scale=s) * w\n",
    "    \n",
    "norm_params_nlos = np.array([[4.14, 0.022],[4.75, 0.014]])\n",
    "n_components_nlos = norm_params_nlos.shape[0]  \n",
    "nlos_weights = np.ones(n_components_nlos, dtype=np.float64) / float(n_components_nlos)\n",
    "pdf2 = np.zeros_like(k_los)\n",
    "for (l, s), w in zip(norm_params_nlos, nlos_weights):\n",
    "    pdf2 += ss.norm.pdf(k_los, loc=l, scale=s) * w  \n",
    "\n",
    "k_los_identification_test = np.log(pdf1/pdf2)\n",
    "k_los_identification_test[k_los_identification_test>0] = 1\n",
    "k_los_identification_test[k_los_identification_test<0] = 0\n",
    "k_los_identification_per = (np.count_nonzero(k_los_identification_test == 1)/10000)*100\n",
    "print(\"LOS identification percentage with Skewness\",k_los_identification_per)"
   ]
  },
  {
   "cell_type": "code",
   "execution_count": 128,
   "metadata": {},
   "outputs": [
    {
     "name": "stdout",
     "output_type": "stream",
     "text": [
      "NLOS identification percentage with SKewness 99.97\n"
     ]
    }
   ],
   "source": [
    "# Simulation for NLOS identification using GMM distribution for Skewness\n",
    "n = 10000\n",
    "# Parameters of the mixture components (mu,sigma)\n",
    "norm_params_nlos = np.array([[4.14, 0.022],[4.75, 0.014]])\n",
    "n_components_nlos = norm_params_nlos.shape[0]\n",
    "# Weight of each component, in this case all of them are 1/3\n",
    "nlos_weights = np.ones(n_components_nlos, dtype=np.float64) / float(n_components_nlos)\n",
    "mixture_idx = numpy.random.choice(n_components_nlos, size=n, replace=True, p=nlos_weights)\n",
    "# y is the mixture sample\n",
    "k_nlos = numpy.fromiter((ss.norm.rvs(*(norm_params_nlos[i])) for i in mixture_idx),\n",
    "                   dtype=np.float64)  \n",
    "pdf2 = np.zeros_like(k_nlos)\n",
    "for (l, s), w in zip(norm_params_nlos, nlos_weights):\n",
    "    pdf2 += ss.norm.pdf(k_nlos, loc=l, scale=s) * w\n",
    "    \n",
    "norm_params_los = np.array([[3.65, 0.064],[3.93, 0.043]])\n",
    "n_components_los = norm_params_los.shape[0]  \n",
    "los_weights = np.ones(n_components_los, dtype=np.float64) / float(n_components_los)\n",
    "pdf1 = np.zeros_like(k_nlos)\n",
    "for (l, s), w in zip(norm_params_los, los_weights):\n",
    "    pdf1 += ss.norm.pdf(k_nlos, loc=l, scale=s) * w  \n",
    "\n",
    "k_nlos_identification_test = np.log(pdf1/pdf2)\n",
    "k_nlos_identification_test[k_nlos_identification_test>0] = 0\n",
    "k_nlos_identification_test[k_nlos_identification_test<0] = 1\n",
    "k_nlos_identification_per = (np.count_nonzero(k_nlos_identification_test == 1)/10000)*100\n",
    "print(\"NLOS identification percentage with SKewness\",k_nlos_identification_per)"
   ]
  },
  {
   "cell_type": "markdown",
   "metadata": {},
   "source": [
    "### Hypothesis testing using GMM distribution for PLD"
   ]
  },
  {
   "cell_type": "code",
   "execution_count": 117,
   "metadata": {},
   "outputs": [
    {
     "name": "stdout",
     "output_type": "stream",
     "text": [
      "LOS identification percentage with PLD 91.03\n"
     ]
    },
    {
     "name": "stderr",
     "output_type": "stream",
     "text": [
      "<ipython-input-117-449f429bf000>:23: RuntimeWarning: divide by zero encountered in true_divide\n",
      "  k_los_identification_test = np.log(pdf1/pdf2)\n",
      "<ipython-input-117-449f429bf000>:23: RuntimeWarning: overflow encountered in true_divide\n",
      "  k_los_identification_test = np.log(pdf1/pdf2)\n"
     ]
    }
   ],
   "source": [
    "# Simulation for LOS identification using GMM distribution for PLD\n",
    "n = 10000\n",
    "# Parameters of the mixture components (mu,sigma)\n",
    "norm_params_los = np.array([[3.84, 0.64],[11.64, 0.23]])\n",
    "n_components_los = norm_params_los.shape[0]\n",
    "# Weight of each component, in this case all of them are 1/2\n",
    "los_weights = np.ones(n_components_los, dtype=np.float64) / float(n_components_los)\n",
    "mixture_idx = numpy.random.choice(n_components_los, size=n, replace=True, p=los_weights)\n",
    "# y is the mixture sample\n",
    "k_los = numpy.fromiter((ss.norm.rvs(*(norm_params_los[i])) for i in mixture_idx),\n",
    "                   dtype=np.float64)  \n",
    "pdf1 = np.zeros_like(k_los)\n",
    "for (l, s), w in zip(norm_params_los, los_weights):\n",
    "    pdf1 += ss.norm.pdf(k_los, loc=l, scale=s) * w\n",
    "    \n",
    "norm_params_nlos = np.array([[2.71, 0.20],[5.22, 0.17]])\n",
    "n_components_nlos = norm_params_nlos.shape[0]  \n",
    "nlos_weights = np.ones(n_components_nlos, dtype=np.float64) / float(n_components_nlos)\n",
    "pdf2 = np.zeros_like(k_los)\n",
    "for (l, s), w in zip(norm_params_nlos, nlos_weights):\n",
    "    pdf2 += ss.norm.pdf(k_los, loc=l, scale=s) * w  \n",
    "\n",
    "k_los_identification_test = np.log(pdf1/pdf2)\n",
    "k_los_identification_test[k_los_identification_test>0] = 1\n",
    "k_los_identification_test[k_los_identification_test<0] = 0\n",
    "k_los_identification_per = (np.count_nonzero(k_los_identification_test == 1)/10000)*100\n",
    "print(\"LOS identification percentage with PLD\",k_los_identification_per)"
   ]
  },
  {
   "cell_type": "code",
   "execution_count": 116,
   "metadata": {},
   "outputs": [
    {
     "name": "stdout",
     "output_type": "stream",
     "text": [
      "NLOS identification percentage with PLD 97.92999999999999\n"
     ]
    }
   ],
   "source": [
    "# Simulation for NLOS identification using GMM distribution for PLD\n",
    "n = 10000\n",
    "# Parameters of the mixture components (mu,sigma)\n",
    "norm_params_nlos = np.array([[2.71, 0.20],[5.22, 0.17]])\n",
    "n_components_nlos = norm_params_nlos.shape[0]\n",
    "# Weight of each component, in this case all of them are 1/3\n",
    "nlos_weights = np.ones(n_components_nlos, dtype=np.float64) / float(n_components_nlos)\n",
    "mixture_idx = numpy.random.choice(n_components_nlos, size=n, replace=True, p=nlos_weights)\n",
    "# y is the mixture sample\n",
    "k_nlos = numpy.fromiter((ss.norm.rvs(*(norm_params_nlos[i])) for i in mixture_idx),\n",
    "                   dtype=np.float64)  \n",
    "pdf2 = np.zeros_like(k_nlos)\n",
    "for (l, s), w in zip(norm_params_nlos, nlos_weights):\n",
    "    pdf2 += ss.norm.pdf(k_nlos, loc=l, scale=s) * w\n",
    "    \n",
    "norm_params_los =  np.array([[3.84, 0.64],[11.64, 0.23]])\n",
    "n_components_los = norm_params_los.shape[0]  \n",
    "los_weights = np.ones(n_components_los, dtype=np.float64) / float(n_components_los)\n",
    "pdf1 = np.zeros_like(k_nlos)\n",
    "for (l, s), w in zip(norm_params_los, los_weights):\n",
    "    pdf1 += ss.norm.pdf(k_nlos, loc=l, scale=s) * w  \n",
    "\n",
    "k_nlos_identification_test = np.log(pdf1/pdf2)\n",
    "k_nlos_identification_test[k_nlos_identification_test>0] = 0\n",
    "k_nlos_identification_test[k_nlos_identification_test<0] = 1\n",
    "k_nlos_identification_per = (np.count_nonzero(k_nlos_identification_test == 1)/10000)*100\n",
    "print(\"NLOS identification percentage with PLD\",k_nlos_identification_per)"
   ]
  },
  {
   "cell_type": "markdown",
   "metadata": {},
   "source": [
    "### Hypothesis testing using GMM distribution for Power Difference"
   ]
  },
  {
   "cell_type": "code",
   "execution_count": null,
   "metadata": {},
   "outputs": [],
   "source": []
  },
  {
   "cell_type": "code",
   "execution_count": 119,
   "metadata": {},
   "outputs": [
    {
     "name": "stdout",
     "output_type": "stream",
     "text": [
      "LOS identification percentage with PD 99.35000000000001\n"
     ]
    }
   ],
   "source": [
    "# Simulation for LOS identification using GMM distribution for PD\n",
    "n = 10000\n",
    "# Parameters of the mixture components (mu,sigma)\n",
    "norm_params_los = np.array([[5.45,0.35]])\n",
    "n_components_los = norm_params_los.shape[0]\n",
    "# Weight of each component, in this case all of them are 1/2\n",
    "los_weights = np.ones(n_components_los, dtype=np.float64) / float(n_components_los)\n",
    "mixture_idx = numpy.random.choice(n_components_los, size=n, replace=True, p=los_weights)\n",
    "# y is the mixture sample\n",
    "k_los = numpy.fromiter((ss.norm.rvs(*(norm_params_los[i])) for i in mixture_idx),\n",
    "                   dtype=np.float64)  \n",
    "pdf1 = np.zeros_like(k_los)\n",
    "for (l, s), w in zip(norm_params_los, los_weights):\n",
    "    pdf1 += ss.norm.pdf(k_los, loc=l, scale=s) * w\n",
    "    \n",
    "norm_params_nlos = np.array([[3.64, 0.39],[9.35, 1.69]])\n",
    "n_components_nlos = norm_params_nlos.shape[0]  \n",
    "nlos_weights = np.ones(n_components_nlos, dtype=np.float64) / float(n_components_nlos)\n",
    "pdf2 = np.zeros_like(k_los)\n",
    "for (l, s), w in zip(norm_params_nlos, nlos_weights):\n",
    "    pdf2 += ss.norm.pdf(k_los, loc=l, scale=s) * w  \n",
    "\n",
    "k_los_identification_test = np.log(pdf1/pdf2)\n",
    "k_los_identification_test[k_los_identification_test>0] = 1\n",
    "k_los_identification_test[k_los_identification_test<0] = 0\n",
    "k_los_identification_per = (np.count_nonzero(k_los_identification_test == 1)/10000)*100\n",
    "print(\"LOS identification percentage with PD\",k_los_identification_per)"
   ]
  },
  {
   "cell_type": "code",
   "execution_count": 121,
   "metadata": {},
   "outputs": [
    {
     "name": "stdout",
     "output_type": "stream",
     "text": [
      "NLOS identification percentage with PD 97.69\n"
     ]
    }
   ],
   "source": [
    "# Simulation for NLOS identification using GMM distribution for PLD\n",
    "n = 10000\n",
    "# Parameters of the mixture components (mu,sigma)\n",
    "norm_params_nlos = np.array([[3.64, 0.39],[9.35, 1.69]])\n",
    "n_components_nlos = norm_params_nlos.shape[0]\n",
    "# Weight of each component, in this case all of them are 1/3\n",
    "nlos_weights = np.ones(n_components_nlos, dtype=np.float64) / float(n_components_nlos)\n",
    "mixture_idx = numpy.random.choice(n_components_nlos, size=n, replace=True, p=nlos_weights)\n",
    "# y is the mixture sample\n",
    "k_nlos = numpy.fromiter((ss.norm.rvs(*(norm_params_nlos[i])) for i in mixture_idx),\n",
    "                   dtype=np.float64)  \n",
    "pdf2 = np.zeros_like(k_nlos)\n",
    "for (l, s), w in zip(norm_params_nlos, nlos_weights):\n",
    "    pdf2 += ss.norm.pdf(k_nlos, loc=l, scale=s) * w\n",
    "    \n",
    "norm_params_los =  np.array([[5.45,0.35]])\n",
    "n_components_los = norm_params_los.shape[0]  \n",
    "los_weights = np.ones(n_components_los, dtype=np.float64) / float(n_components_los)\n",
    "pdf1 = np.zeros_like(k_nlos)\n",
    "for (l, s), w in zip(norm_params_los, los_weights):\n",
    "    pdf1 += ss.norm.pdf(k_nlos, loc=l, scale=s) * w  \n",
    "\n",
    "k_nlos_identification_test = np.log(pdf1/pdf2)\n",
    "k_nlos_identification_test[k_nlos_identification_test>0] = 0\n",
    "k_nlos_identification_test[k_nlos_identification_test<0] = 1\n",
    "k_nlos_identification_per = (np.count_nonzero(k_nlos_identification_test == 1)/10000)*100\n",
    "print(\"NLOS identification percentage with PD\",k_nlos_identification_per)"
   ]
  },
  {
   "cell_type": "markdown",
   "metadata": {},
   "source": [
    "### Hypothesis testing using GMM distribution for Power Ratio"
   ]
  },
  {
   "cell_type": "code",
   "execution_count": 122,
   "metadata": {},
   "outputs": [
    {
     "name": "stdout",
     "output_type": "stream",
     "text": [
      "LOS identification percentage with PR 99.45\n"
     ]
    }
   ],
   "source": [
    "# Simulation for LOS identification using GMM distribution for Power Ratio\n",
    "n = 10000\n",
    "# Parameters of the mixture components (mu,sigma)\n",
    "norm_params_los = np.array([[1.06,0.0027]])\n",
    "n_components_los = norm_params_los.shape[0]\n",
    "# Weight of each component, in this case all of them are 1/2\n",
    "los_weights = np.ones(n_components_los, dtype=np.float64) / float(n_components_los)\n",
    "mixture_idx = numpy.random.choice(n_components_los, size=n, replace=True, p=los_weights)\n",
    "# y is the mixture sample\n",
    "k_los = numpy.fromiter((ss.norm.rvs(*(norm_params_los[i])) for i in mixture_idx),\n",
    "                   dtype=np.float64)  \n",
    "pdf1 = np.zeros_like(k_los)\n",
    "for (l, s), w in zip(norm_params_los, los_weights):\n",
    "    pdf1 += ss.norm.pdf(k_los, loc=l, scale=s) * w\n",
    "    \n",
    "norm_params_nlos = np.array([[1.094,0.025],[1.04, 0.0038]])\n",
    "n_components_nlos = norm_params_nlos.shape[0]  \n",
    "nlos_weights = np.ones(n_components_nlos, dtype=np.float64) / float(n_components_nlos)\n",
    "pdf2 = np.zeros_like(k_los)\n",
    "for (l, s), w in zip(norm_params_nlos, nlos_weights):\n",
    "    pdf2 += ss.norm.pdf(k_los, loc=l, scale=s) * w  \n",
    "\n",
    "k_los_identification_test = np.log(pdf1/pdf2)\n",
    "k_los_identification_test[k_los_identification_test>0] = 1\n",
    "k_los_identification_test[k_los_identification_test<0] = 0\n",
    "k_los_identification_per = (np.count_nonzero(k_los_identification_test == 1)/10000)*100\n",
    "print(\"LOS identification percentage with PR\",k_los_identification_per)"
   ]
  },
  {
   "cell_type": "code",
   "execution_count": null,
   "metadata": {},
   "outputs": [],
   "source": []
  },
  {
   "cell_type": "code",
   "execution_count": 123,
   "metadata": {},
   "outputs": [
    {
     "name": "stdout",
     "output_type": "stream",
     "text": [
      "NLOS identification percentage with PR 95.21\n"
     ]
    },
    {
     "name": "stderr",
     "output_type": "stream",
     "text": [
      "<ipython-input-123-fa4ce7b43904>:23: RuntimeWarning: divide by zero encountered in log\n",
      "  k_nlos_identification_test = np.log(pdf1/pdf2)\n"
     ]
    }
   ],
   "source": [
    "# Simulation for NLOS identification using GMM distribution for PR\n",
    "n = 10000\n",
    "# Parameters of the mixture components (mu,sigma)\n",
    "norm_params_nlos = np.array([[1.094,0.025],[1.04, 0.0038]])\n",
    "n_components_nlos = norm_params_nlos.shape[0]\n",
    "# Weight of each component, in this case all of them are 1/3\n",
    "nlos_weights = np.ones(n_components_nlos, dtype=np.float64) / float(n_components_nlos)\n",
    "mixture_idx = numpy.random.choice(n_components_nlos, size=n, replace=True, p=nlos_weights)\n",
    "# y is the mixture sample\n",
    "k_nlos = numpy.fromiter((ss.norm.rvs(*(norm_params_nlos[i])) for i in mixture_idx),\n",
    "                   dtype=np.float64)  \n",
    "pdf2 = np.zeros_like(k_nlos)\n",
    "for (l, s), w in zip(norm_params_nlos, nlos_weights):\n",
    "    pdf2 += ss.norm.pdf(k_nlos, loc=l, scale=s) * w\n",
    "    \n",
    "norm_params_los =  np.array([[1.06,0.0027]])\n",
    "n_components_los = norm_params_los.shape[0]  \n",
    "los_weights = np.ones(n_components_los, dtype=np.float64) / float(n_components_los)\n",
    "pdf1 = np.zeros_like(k_nlos)\n",
    "for (l, s), w in zip(norm_params_los, los_weights):\n",
    "    pdf1 += ss.norm.pdf(k_nlos, loc=l, scale=s) * w  \n",
    "\n",
    "k_nlos_identification_test = np.log(pdf1/pdf2)\n",
    "k_nlos_identification_test[k_nlos_identification_test>0] = 0\n",
    "k_nlos_identification_test[k_nlos_identification_test<0] = 1\n",
    "k_nlos_identification_per = (np.count_nonzero(k_nlos_identification_test == 1)/10000)*100\n",
    "print(\"NLOS identification percentage with PR\",k_nlos_identification_per)"
   ]
  },
  {
   "cell_type": "code",
   "execution_count": null,
   "metadata": {},
   "outputs": [],
   "source": []
  }
 ],
 "metadata": {
  "kernelspec": {
   "display_name": "Python 3",
   "language": "python",
   "name": "python3"
  },
  "language_info": {
   "codemirror_mode": {
    "name": "ipython",
    "version": 3
   },
   "file_extension": ".py",
   "mimetype": "text/x-python",
   "name": "python",
   "nbconvert_exporter": "python",
   "pygments_lexer": "ipython3",
   "version": "3.8.3"
  }
 },
 "nbformat": 4,
 "nbformat_minor": 4
}
